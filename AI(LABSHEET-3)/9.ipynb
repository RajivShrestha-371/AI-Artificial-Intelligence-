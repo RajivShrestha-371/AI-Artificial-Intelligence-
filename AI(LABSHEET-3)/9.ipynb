{
 "cells": [
  {
   "cell_type": "markdown",
   "metadata": {},
   "source": [
    "9.\tWAP to demonstrate the effect of temperature on the probability of choosing an inferior node by selecting an appropriate temperature schedule."
   ]
  },
  {
   "cell_type": "code",
   "execution_count": 2,
   "metadata": {},
   "outputs": [],
   "source": [
    "import math\n",
    "import random"
   ]
  },
  {
   "cell_type": "code",
   "execution_count": 4,
   "metadata": {},
   "outputs": [],
   "source": [
    "def simulated_annealing(initial_state, neighbor_function, cost_function, temperature_schedule):\n",
    "    \"\"\"\n",
    "    Perform simulated annealing to minimize a cost function.\n",
    "    \n",
    "    Parameters:\n",
    "        initial_state (any): The initial state of the system.\n",
    "        neighbor_function (function): Function to generate a neighbor state.\n",
    "        cost_function (function): Function to evaluate the cost of a state.\n",
    "        temperature_schedule (function): Function to determine the temperature at a given step.\n",
    "    \n",
    "    Returns:\n",
    "        The best state and its cost.\n",
    "    \"\"\"\n",
    "    current_state = initial_state\n",
    "    current_cost = cost_function(current_state)\n",
    "    best_state = current_state\n",
    "    best_cost = current_cost\n",
    "\n",
    "    step = 0\n",
    "    while True:\n",
    "        # Get the temperature for the current step\n",
    "        temperature = temperature_schedule(step)\n",
    "        if temperature <= 0:  # Stop if temperature reaches 0\n",
    "            break\n",
    "\n",
    "        # Generate a neighbor and calculate its cost\n",
    "        neighbor_state = neighbor_function(current_state)\n",
    "        neighbor_cost = cost_function(neighbor_state)\n",
    "\n",
    "        # Calculate the probability of accepting the neighbor state\n",
    "        delta_cost = neighbor_cost - current_cost\n",
    "        acceptance_probability = math.exp(-delta_cost / temperature) if delta_cost > 0 else 1\n",
    "\n",
    "        # Accept the neighbor state based on the probability\n",
    "        if random.random() < acceptance_probability:\n",
    "            current_state = neighbor_state\n",
    "            current_cost = neighbor_cost\n",
    "\n",
    "        # Update the best state if necessary\n",
    "        if current_cost < best_cost:\n",
    "            best_state = current_state\n",
    "            best_cost = current_cost\n",
    "\n",
    "        step += 1\n",
    "\n",
    "    return best_state, best_cost\n",
    "\n",
    "# Example Problem: Minimize a quadratic function with noise\n",
    "def cost_function(x):\n",
    "    \"\"\"Quadratic function with noise.\"\"\"\n",
    "    return x**2 + random.uniform(-10, 10)  # Add noise to the function\n",
    "\n",
    "def neighbor_function(x):\n",
    "    \"\"\"Generate a neighbor by making a small random change.\"\"\"\n",
    "    return x + random.uniform(-1, 1)\n",
    "\n",
    "def temperature_schedule(step):\n",
    "    \"\"\"Exponential decay temperature schedule.\"\"\"\n",
    "    initial_temperature = 100\n",
    "    cooling_rate = 0.01\n",
    "    return initial_temperature * math.exp(-cooling_rate * step)"
   ]
  },
  {
   "cell_type": "code",
   "execution_count": 5,
   "metadata": {},
   "outputs": [
    {
     "name": "stdout",
     "output_type": "stream",
     "text": [
      "Initial State: -0.4710486493783339\n",
      "Best State: -0.014930267052972956\n",
      "Best Cost: -9.993255472600433\n"
     ]
    }
   ],
   "source": [
    "# Example Usage\n",
    "initial_state = random.uniform(-10, 10)  # Start with a random value\n",
    "best_state, best_cost = simulated_annealing(initial_state, neighbor_function, cost_function, temperature_schedule)\n",
    "\n",
    "# Print the results\n",
    "print(\"Initial State:\", initial_state)\n",
    "print(\"Best State:\", best_state)\n",
    "print(\"Best Cost:\", best_cost)"
   ]
  }
 ],
 "metadata": {
  "kernelspec": {
   "display_name": "Python 3",
   "language": "python",
   "name": "python3"
  },
  "language_info": {
   "codemirror_mode": {
    "name": "ipython",
    "version": 3
   },
   "file_extension": ".py",
   "mimetype": "text/x-python",
   "name": "python",
   "nbconvert_exporter": "python",
   "pygments_lexer": "ipython3",
   "version": "3.12.8"
  }
 },
 "nbformat": 4,
 "nbformat_minor": 2
}
