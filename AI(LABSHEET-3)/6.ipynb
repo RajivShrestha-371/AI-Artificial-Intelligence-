{
 "cells": [
  {
   "cell_type": "markdown",
   "metadata": {},
   "source": [
    "6.\tWAP in Python to calculate the heuristic value of the states for Tic-Tac-Toe as follows\n",
    "Heuristic function:\n",
    "e(p)= No. of complete rows, columns or diagonals are still open for player ) – (No. of complete rows, columns or diagonals are still open for  opponent)"
   ]
  },
  {
   "cell_type": "code",
   "execution_count": 1,
   "metadata": {},
   "outputs": [
    {
     "name": "stdout",
     "output_type": "stream",
     "text": [
      "Heuristic value: 3\n"
     ]
    }
   ],
   "source": [
    "def calculate_heuristic(board, player, opponent):\n",
    "    def count_open_lines(board, symbol):\n",
    "        # Check rows, columns, and diagonals for lines open for the given symbol\n",
    "        open_lines = 0\n",
    "\n",
    "        # Check rows\n",
    "        for row in board:\n",
    "            if all(cell in (symbol, None) for cell in row):\n",
    "                open_lines += 1\n",
    "\n",
    "        # Check columns\n",
    "        for col in range(3):\n",
    "            if all(board[row][col] in (symbol, None) for row in range(3)):\n",
    "                open_lines += 1\n",
    "\n",
    "        # Check diagonals\n",
    "        if all(board[i][i] in (symbol, None) for i in range(3)):\n",
    "            open_lines += 1\n",
    "        if all(board[i][2 - i] in (symbol, None) for i in range(3)):\n",
    "            open_lines += 1\n",
    "\n",
    "        return open_lines\n",
    "\n",
    "    player_lines = count_open_lines(board, player)\n",
    "    opponent_lines = count_open_lines(board, opponent)\n",
    "\n",
    "    # Heuristic value\n",
    "    heuristic_value = player_lines - opponent_lines\n",
    "    return heuristic_value\n",
    "\n",
    "# Example usage\n",
    "# Board configuration: None represents an empty cell\n",
    "# X is the player, O is the opponent\n",
    "board = [\n",
    "    ['X', None, None],\n",
    "    [None, None, None],\n",
    "    [None, None, None]\n",
    "]\n",
    "player = 'X'\n",
    "opponent = 'O'\n",
    "\n",
    "heuristic = calculate_heuristic(board, player, opponent)\n",
    "print(f\"Heuristic value: {heuristic}\")"
   ]
  }
 ],
 "metadata": {
  "kernelspec": {
   "display_name": "Python 3",
   "language": "python",
   "name": "python3"
  },
  "language_info": {
   "codemirror_mode": {
    "name": "ipython",
    "version": 3
   },
   "file_extension": ".py",
   "mimetype": "text/x-python",
   "name": "python",
   "nbconvert_exporter": "python",
   "pygments_lexer": "ipython3",
   "version": "3.12.8"
  }
 },
 "nbformat": 4,
 "nbformat_minor": 2
}
