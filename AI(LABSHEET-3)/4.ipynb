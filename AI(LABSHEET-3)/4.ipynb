{
 "cells": [
  {
   "cell_type": "code",
   "execution_count": 1,
   "metadata": {},
   "outputs": [],
   "source": [
    "from collections import deque\n",
    "import heapq"
   ]
  },
  {
   "cell_type": "code",
   "execution_count": 11,
   "metadata": {},
   "outputs": [],
   "source": [
    "class NPuzzle:\n",
    "    def __init__(self, initial_state, goal_state):\n",
    "        self.initial_state = initial_state\n",
    "        self.goal_state = goal_state\n",
    "        self.size = int(len(initial_state) ** 0.5)  # Assuming square puzzle (3x3, 4x4, etc.)\n",
    "\n",
    "    def goal_test(self, state):\n",
    "        \"\"\"Check if the current state matches the goal state.\"\"\"\n",
    "        return state == self.goal_state\n",
    "\n",
    "    def successors(self, state):\n",
    "        \"\"\"Generate valid next states by moving the empty space.\"\"\"\n",
    "        size = self.size\n",
    "        empty_pos = state.index(0)  # Find the position of the empty space\n",
    "        x, y = empty_pos // size, empty_pos % size  # Convert to 2D coordinates\n",
    "        directions = [(-1, 0), (1, 0), (0, -1), (0, 1)]  # Up, Down, Left, Right\n",
    "        succ = []\n",
    "\n",
    "        for dx, dy in directions:\n",
    "            nx, ny = x + dx, y + dy\n",
    "            if 0 <= nx < size and 0 <= ny < size:  # Check if within bounds\n",
    "                new_pos = nx * size + ny\n",
    "                new_state = list(state)\n",
    "                # Swap the empty space with the adjacent tile\n",
    "                new_state[empty_pos], new_state[new_pos] = new_state[new_pos], new_state[empty_pos]\n",
    "                succ.append(tuple(new_state))\n",
    "\n",
    "        return succ\n",
    "\n",
    "    def bfs(self):\n",
    "        \"\"\"Breadth-First Search to solve the n-puzzle.\"\"\"\n",
    "        queue = deque([(self.initial_state, [])])  # Queue with state and path to that state\n",
    "        visited = set()  # Set of visited states to avoid cycles\n",
    "\n",
    "        while queue:\n",
    "            current_state, path = queue.popleft()\n",
    "\n",
    "            if current_state in visited:\n",
    "                continue\n",
    "\n",
    "            visited.add(current_state)\n",
    "\n",
    "            # Check if goal is reached\n",
    "            if self.goal_test(current_state):\n",
    "                return path + [current_state]\n",
    "\n",
    "            # Generate successors and add them to the queue\n",
    "            for succ in self.successors(current_state):\n",
    "                if succ not in visited:\n",
    "                    queue.append((succ, path + [current_state]))\n",
    "\n",
    "        return None  # No solution found\n",
    "\n",
    "    def run(self):\n",
    "        \"\"\"Run the BFS algorithm and display the solution path.\"\"\"\n",
    "        print(\"Solving with BFS:\")\n",
    "        path = self.bfs()\n",
    "        if path:\n",
    "            for step in path:\n",
    "                print(step)\n",
    "        else:\n",
    "            print(\"No solution found\")"
   ]
  },
  {
   "cell_type": "code",
   "execution_count": 12,
   "metadata": {},
   "outputs": [
    {
     "name": "stdout",
     "output_type": "stream",
     "text": [
      "Solving with BFS:\n",
      "(0, 8, 7, 6, 5, 4, 3, 2, 1)\n",
      "(6, 8, 7, 0, 5, 4, 3, 2, 1)\n",
      "(6, 8, 7, 3, 5, 4, 0, 2, 1)\n",
      "(6, 8, 7, 3, 5, 4, 2, 0, 1)\n",
      "(6, 8, 7, 3, 5, 4, 2, 1, 0)\n",
      "(6, 8, 7, 3, 5, 0, 2, 1, 4)\n",
      "(6, 8, 0, 3, 5, 7, 2, 1, 4)\n",
      "(6, 0, 8, 3, 5, 7, 2, 1, 4)\n",
      "(0, 6, 8, 3, 5, 7, 2, 1, 4)\n",
      "(3, 6, 8, 0, 5, 7, 2, 1, 4)\n",
      "(3, 6, 8, 2, 5, 7, 0, 1, 4)\n",
      "(3, 6, 8, 2, 5, 7, 1, 0, 4)\n",
      "(3, 6, 8, 2, 5, 7, 1, 4, 0)\n",
      "(3, 6, 8, 2, 5, 0, 1, 4, 7)\n",
      "(3, 6, 0, 2, 5, 8, 1, 4, 7)\n",
      "(3, 0, 6, 2, 5, 8, 1, 4, 7)\n",
      "(0, 3, 6, 2, 5, 8, 1, 4, 7)\n",
      "(2, 3, 6, 0, 5, 8, 1, 4, 7)\n",
      "(2, 3, 6, 1, 5, 8, 0, 4, 7)\n",
      "(2, 3, 6, 1, 5, 8, 4, 0, 7)\n",
      "(2, 3, 6, 1, 5, 8, 4, 7, 0)\n",
      "(2, 3, 6, 1, 5, 0, 4, 7, 8)\n",
      "(2, 3, 0, 1, 5, 6, 4, 7, 8)\n",
      "(2, 0, 3, 1, 5, 6, 4, 7, 8)\n",
      "(0, 2, 3, 1, 5, 6, 4, 7, 8)\n",
      "(1, 2, 3, 0, 5, 6, 4, 7, 8)\n",
      "(1, 2, 3, 4, 5, 6, 0, 7, 8)\n",
      "(1, 2, 3, 4, 5, 6, 7, 0, 8)\n",
      "(1, 2, 3, 4, 5, 6, 7, 8, 0)\n"
     ]
    }
   ],
   "source": [
    "# Example Usage:\n",
    "initial_state = ( 0,8,7,6,5,4,3,2,1)  # 3x3 puzzle with empty space at the last position\n",
    "goal_state = (1, 2, 3, 4, 5, 6, 7, 8, 0)  # Goal state\n",
    "\n",
    "puzzle = NPuzzle(initial_state, goal_state)\n",
    "puzzle.run()\n"
   ]
  }
 ],
 "metadata": {
  "kernelspec": {
   "display_name": "Python 3",
   "language": "python",
   "name": "python3"
  },
  "language_info": {
   "codemirror_mode": {
    "name": "ipython",
    "version": 3
   },
   "file_extension": ".py",
   "mimetype": "text/x-python",
   "name": "python",
   "nbconvert_exporter": "python",
   "pygments_lexer": "ipython3",
   "version": "3.12.8"
  }
 },
 "nbformat": 4,
 "nbformat_minor": 2
}
