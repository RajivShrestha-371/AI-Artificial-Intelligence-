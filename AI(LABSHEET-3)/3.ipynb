{
 "cells": [
  {
   "cell_type": "markdown",
   "metadata": {},
   "source": [
    "3.\tWAP in Python will implement DFS/BFS on the water jug problem.\n",
    "Given a 4 - litre jug filled with water & an empty 3 - litre Jug, how can one obtain exactly 2 liters in 4 litres jug. There is no measuring mark on any of them.\n",
    "•\tDefine WaterJug Class with a constructor to initialize the initial and goal state\n",
    "•\tDefine boolean goalTest(current_state, goal_state) to check if current_state is goal_state or not\n",
    "•\tDefine successor() with reference to the production rules to generate possible child(s).\n",
    "•\tVerify if successor() is working properly or not\n",
    "•\tDefine DFS/BFS search algorithm to find the solution\n",
    "•\tModify search algorithm to store state,parent in CLOSED list and also define generate_path() to provide the path of solution.\n"
   ]
  },
  {
   "cell_type": "code",
   "execution_count": 1,
   "metadata": {},
   "outputs": [],
   "source": [
    "from collections import deque"
   ]
  },
  {
   "cell_type": "code",
   "execution_count": 5,
   "metadata": {},
   "outputs": [],
   "source": [
    "class WaterJug:\n",
    "    def __init__(self, initial_state, goal_state):\n",
    "        self.initial_state = initial_state\n",
    "        self.goal_state = goal_state\n",
    "\n",
    "    def goal_test(self, current_state):\n",
    "        return current_state == self.goal_state\n",
    "\n",
    "    def successor(self, state):\n",
    "        \"\"\"Generate all possible states from the current state.\"\"\"\n",
    "        x, y = state  # x: 4-litre jug, y: 3-litre jug\n",
    "        successors = []\n",
    "\n",
    "        # Fill either jug\n",
    "        successors.append((4, y))  # Fill 4-litre jug\n",
    "        successors.append((x, 3))  # Fill 3-litre jug\n",
    "\n",
    "        # Empty either jug\n",
    "        successors.append((0, y))  # Empty 4-litre jug\n",
    "        successors.append((x, 0))  # Empty 3-litre jug\n",
    "\n",
    "        # Pour from 4-litre jug to 3-litre jug\n",
    "        transfer = min(x, 3 - y)\n",
    "        successors.append((x - transfer, y + transfer))\n",
    "\n",
    "        # Pour from 3-litre jug to 4-litre jug\n",
    "        transfer = min(y, 4 - x)\n",
    "        successors.append((x + transfer, y - transfer))\n",
    "\n",
    "        # Remove duplicates\n",
    "        return list(set(successors))\n",
    "\n",
    "    def dfs(self):\n",
    "        #Depth First Search implementation.\n",
    "        stack = [(self.initial_state, None)]  # Stack stores (state, parent)\n",
    "        closed = []  # Stores visited states\n",
    "        path = []\n",
    "\n",
    "        while stack:\n",
    "            state, parent = stack.pop()\n",
    "\n",
    "            if state in [s[0] for s in closed]:\n",
    "                continue\n",
    "\n",
    "            closed.append((state, parent))\n",
    "\n",
    "            if self.goal_test(state):\n",
    "                return self.generate_path(state, closed)\n",
    "\n",
    "            for child in self.successor(state):\n",
    "                stack.append((child, state))\n",
    "\n",
    "        return None  # No solution found\n",
    "\n",
    "    def bfs(self):\n",
    "        #Breadth First Search implementation.\n",
    "        queue = deque([(self.initial_state, None)])  # Queue stores (state, parent)\n",
    "        closed = []  # Stores visited states\n",
    "\n",
    "        while queue:\n",
    "            state, parent = queue.popleft()\n",
    "\n",
    "            if state in [s[0] for s in closed]:\n",
    "                continue\n",
    "\n",
    "            closed.append((state, parent))\n",
    "\n",
    "            if self.goal_test(state):\n",
    "                return self.generate_path(state, closed)\n",
    "\n",
    "            for child in self.successor(state):\n",
    "                queue.append((child, state))\n",
    "\n",
    "        return None  # No solution found\n",
    "\n",
    "    def generate_path(self, state, closed):\n",
    "        #Generate the solution path from the closed list.\n",
    "        path = []\n",
    "        while state is not None:\n",
    "            for s, parent in closed:\n",
    "                if s == state:\n",
    "                    path.append(state)\n",
    "                    state = parent\n",
    "                    break\n",
    "        path.reverse()\n",
    "        return path"
   ]
  },
  {
   "cell_type": "code",
   "execution_count": 6,
   "metadata": {},
   "outputs": [
    {
     "name": "stdout",
     "output_type": "stream",
     "text": [
      "DFS Solution Path:\n",
      "[(4, 0), (4, 3), (0, 3), (3, 0), (3, 3), (4, 2), (0, 2), (2, 0)]\n",
      "\n",
      "BFS Solution Path:\n",
      "[(4, 0), (1, 3), (1, 0), (0, 1), (4, 1), (2, 3), (2, 0)]\n"
     ]
    }
   ],
   "source": [
    "initial_state = (4, 0)  # 4-litre jug is full, 3-litre jug is empty\n",
    "goal_state = (2, 0)     # 4-litre jug should have exactly 2 liters\n",
    "\n",
    "water_jug = WaterJug(initial_state, goal_state)\n",
    "\n",
    "print(\"DFS Solution Path:\")\n",
    "dfs_path = water_jug.dfs()\n",
    "print(dfs_path)\n",
    "\n",
    "print(\"\\nBFS Solution Path:\")\n",
    "bfs_path = water_jug.bfs()\n",
    "print(bfs_path)"
   ]
  }
 ],
 "metadata": {
  "kernelspec": {
   "display_name": "Python 3",
   "language": "python",
   "name": "python3"
  },
  "language_info": {
   "codemirror_mode": {
    "name": "ipython",
    "version": 3
   },
   "file_extension": ".py",
   "mimetype": "text/x-python",
   "name": "python",
   "nbconvert_exporter": "python",
   "pygments_lexer": "ipython3",
   "version": "3.12.8"
  }
 },
 "nbformat": 4,
 "nbformat_minor": 2
}
