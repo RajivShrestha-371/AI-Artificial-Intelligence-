{
 "cells": [
  {
   "cell_type": "markdown",
   "metadata": {},
   "source": [
    "5.\tWAP in Python to calculate the heuristic value of the states for Blocks World Problem as follows\n",
    "\n",
    "Global heuristic: e(p) is calculated as\n",
    "•\tFor each block that has the correct support structure, give +1 to every block in the support structure. \n",
    "•\tFor each block that has a wrong support structure: -1 to every block in the support structure.  "
   ]
  },
  {
   "cell_type": "code",
   "execution_count": null,
   "metadata": {},
   "outputs": [
    {
     "name": "stdout",
     "output_type": "stream",
     "text": [
      "Heuristic value for start state: -4\n",
      "Heuristic value for goal state: 4\n"
     ]
    }
   ],
   "source": [
    "class BlocksWorld:\n",
    "    def __init__(self, start_state, goal_state):\n",
    "        self.start_state = start_state  # Start configuration of blocks\n",
    "        self.goal_state = goal_state  # Goal configuration of blocks\n",
    "\n",
    "    def calculate_heuristic(self, state):\n",
    "        score = 0\n",
    "\n",
    "        # Function to check the stack correctness for a given block\n",
    "        def evaluate_stack(block):\n",
    "            current = block\n",
    "            while current is not None:\n",
    "                # If the block is misplaced or its support structure is wrong\n",
    "                if state.get(current) != self.goal_state.get(current):\n",
    "                    return -1  # Penalize the entire stack\n",
    "                current = self.goal_state[current]  # Move to the block below\n",
    "            return 1  # Reward the entire stack if it's correct\n",
    "\n",
    "        # Evaluate each block in the goal state\n",
    "        for block in self.goal_state:\n",
    "            score += evaluate_stack(block)\n",
    "\n",
    "        return score\n",
    "\n",
    "\n",
    "# Define start and goal states\n",
    "start_state = {\n",
    "    \"A\": \"D\",\n",
    "    \"D\": \"C\",\n",
    "    \"C\": \"B\",\n",
    "    \"B\": None  # B is on the table\n",
    "}\n",
    "\n",
    "goal_state = {\n",
    "    \"D\": \"C\",\n",
    "    \"C\": \"B\",\n",
    "    \"B\": \"A\",\n",
    "    \"A\": None  # A is on the table\n",
    "}\n",
    "\n",
    "# Create an instance of BlocksWorld\n",
    "blocks_world = BlocksWorld(start_state, goal_state)\n",
    "\n",
    "# Calculate heuristic values for start and goal states\n",
    "start_heuristic = blocks_world.calculate_heuristic(start_state)\n",
    "goal_heuristic = blocks_world.calculate_heuristic(goal_state)\n",
    "\n",
    "print(\"Heuristic value for start state:\", start_heuristic)  \n",
    "print(\"Heuristic value for goal state:\", goal_heuristic)  \n"
   ]
  }
 ],
 "metadata": {
  "kernelspec": {
   "display_name": "Python 3",
   "language": "python",
   "name": "python3"
  },
  "language_info": {
   "codemirror_mode": {
    "name": "ipython",
    "version": 3
   },
   "file_extension": ".py",
   "mimetype": "text/x-python",
   "name": "python",
   "nbconvert_exporter": "python",
   "pygments_lexer": "ipython3",
   "version": "3.12.8"
  }
 },
 "nbformat": 4,
 "nbformat_minor": 2
}
