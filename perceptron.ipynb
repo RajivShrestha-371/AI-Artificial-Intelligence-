{
  "nbformat": 4,
  "nbformat_minor": 0,
  "metadata": {
    "colab": {
      "provenance": [],
      "authorship_tag": "ABX9TyPFCTrrHqIxkKXIYe/dRK4X"
    },
    "kernelspec": {
      "name": "python3",
      "display_name": "Python 3"
    },
    "language_info": {
      "name": "python"
    }
  },
  "cells": [
    {
      "cell_type": "code",
      "execution_count": 1,
      "metadata": {
        "id": "rz-2GzsGg-w7"
      },
      "outputs": [],
      "source": [
        "import numpy as np"
      ]
    },
    {
      "cell_type": "code",
      "source": [
        "import numpy as np\n",
        "\n",
        "class Perceptron:\n",
        "    def __init__(self, learning_rate=0.01, epochs=1000):\n",
        "        self.learning_rate = learning_rate\n",
        "        self.epochs = epochs\n",
        "        self.weights = None\n",
        "        self.bias = None\n",
        "\n",
        "    def fit(self, X, y):\n",
        "        # Initialize weights and bias\n",
        "        n_samples, n_features = X.shape\n",
        "        self.weights = np.zeros(n_features)\n",
        "        self.bias = 0\n",
        "\n",
        "        # Training loop\n",
        "        for epoch in range(self.epochs):\n",
        "            for idx, x_i in enumerate(X):\n",
        "                # Compute the linear combination\n",
        "                linear_output = np.dot(x_i, self.weights) + self.bias\n",
        "                # Apply step function\n",
        "                y_pred = self._activation_function(linear_output)\n",
        "\n",
        "                # Perceptron rule: update weights and bias if prediction is incorrect\n",
        "                update = self.learning_rate * (y[idx] - y_pred)\n",
        "                self.weights += update * x_i\n",
        "                self.bias += update\n",
        "\n",
        "    def predict(self, X):\n",
        "        # Compute predictions for given inputs\n",
        "        linear_output = np.dot(X, self.weights) + self.bias\n",
        "        return self._activation_function(linear_output)\n",
        "\n",
        "    def _activation_function(self, x):\n",
        "        # Step function\n",
        "        return np.where(x >= 0, 1, 0)\n",
        "\n",
        "\n"
      ],
      "metadata": {
        "id": "6jkxOD_ihHir"
      },
      "execution_count": 7,
      "outputs": []
    },
    {
      "cell_type": "code",
      "source": [
        "# Example Usage for Different Gates\n",
        "if __name__ == \"__main__\":\n",
        "    # AND Gate\n",
        "    X_and = np.array([[0, 0], [0, 1], [1, 0], [1, 1]])\n",
        "    y_and = np.array([0, 0, 0, 1])\n",
        "    perceptron_and = Perceptron(learning_rate=0.1, epochs=10)\n",
        "    perceptron_and.fit(X_and, y_and)\n",
        "    print(\"AND Gate Predictions:\", perceptron_and.predict(X_and))"
      ],
      "metadata": {
        "colab": {
          "base_uri": "https://localhost:8080/"
        },
        "id": "vmvv1mUnhovT",
        "outputId": "1eff073c-a1fe-4179-a10c-6232d996dc0b"
      },
      "execution_count": 8,
      "outputs": [
        {
          "output_type": "stream",
          "name": "stdout",
          "text": [
            "AND Gate Predictions: [0 0 0 1]\n"
          ]
        }
      ]
    },
    {
      "cell_type": "code",
      "source": [
        "# OR Gate\n",
        "X_or = np.array([[0, 0], [0, 1], [1, 0], [1, 1]])\n",
        "y_or = np.array([0, 1, 1, 1])\n",
        "perceptron_or = Perceptron(learning_rate=0.1, epochs=10)\n",
        "perceptron_or.fit(X_or, y_or)\n",
        "print(\"OR Gate Predictions:\", perceptron_or.predict(X_or))"
      ],
      "metadata": {
        "colab": {
          "base_uri": "https://localhost:8080/"
        },
        "id": "ZZrdXEjnhsc6",
        "outputId": "d1c6ca06-0b71-4dfc-ec3d-6dc25507d964"
      },
      "execution_count": 15,
      "outputs": [
        {
          "output_type": "stream",
          "name": "stdout",
          "text": [
            "OR Gate Predictions: [0 1 1 1]\n"
          ]
        }
      ]
    },
    {
      "cell_type": "code",
      "source": [
        "    # XOR Gate (Cannot be solved by a single-layer perceptron)\n",
        "    X_xor = np.array([[0, 0], [0, 1], [1, 0], [1, 1]])\n",
        "    y_xor = np.array([0, 1, 1, 0])\n",
        "    perceptron_xor = Perceptron(learning_rate=0.1, epochs=10)\n",
        "    perceptron_xor.fit(X_xor, y_xor)\n",
        "    print(\"XOR Gate Predictions:\", perceptron_xor.predict(X_xor))"
      ],
      "metadata": {
        "colab": {
          "base_uri": "https://localhost:8080/"
        },
        "id": "GkvZq3m8hxYc",
        "outputId": "4ae6bc62-dbdd-4952-91cc-f86465cecc82"
      },
      "execution_count": 11,
      "outputs": [
        {
          "output_type": "stream",
          "name": "stdout",
          "text": [
            "XOR Gate Predictions: [1 1 0 0]\n"
          ]
        }
      ]
    },
    {
      "cell_type": "code",
      "source": [
        "    # NOT Gate\n",
        "    X_not = np.array([[0], [1]])\n",
        "    y_not = np.array([1, 0])\n",
        "    perceptron_not = Perceptron(learning_rate=0.1, epochs=10)\n",
        "    perceptron_not.fit(X_not, y_not)\n",
        "    print(\"NOT Gate Predictions:\", perceptron_not.predict(X_not))"
      ],
      "metadata": {
        "colab": {
          "base_uri": "https://localhost:8080/"
        },
        "id": "Q2ubBnq8hzk6",
        "outputId": "c7a31286-cc3a-470a-857b-725fe7ab4414"
      },
      "execution_count": 12,
      "outputs": [
        {
          "output_type": "stream",
          "name": "stdout",
          "text": [
            "NOT Gate Predictions: [1 0]\n"
          ]
        }
      ]
    }
  ]
}