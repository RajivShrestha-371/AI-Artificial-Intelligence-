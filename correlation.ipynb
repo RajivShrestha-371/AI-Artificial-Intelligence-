{
  "nbformat": 4,
  "nbformat_minor": 0,
  "metadata": {
    "colab": {
      "provenance": [],
      "authorship_tag": "ABX9TyMizozWXl3ZBNIkT4nGOlX4"
    },
    "kernelspec": {
      "name": "python3",
      "display_name": "Python 3"
    },
    "language_info": {
      "name": "python"
    }
  },
  "cells": [
    {
      "cell_type": "code",
      "execution_count": 1,
      "metadata": {
        "id": "LqEoNZbGdwDH"
      },
      "outputs": [],
      "source": [
        "import pandas as pd\n",
        "import numpy as np\n",
        "import matplotlib.pyplot as plt\n",
        "from sklearn.model_selection import train_test_split\n",
        "from sklearn.linear_model import LinearRegression\n",
        "from sklearn.metrics import mean_squared_error"
      ]
    },
    {
      "cell_type": "code",
      "source": [
        "#  Generate synthetic data\n",
        "np.random.seed(42)\n",
        "num_samples = 100\n",
        "\n",
        "# Features\n",
        "feature1 = np.random.uniform(1, 100, num_samples)  # Random values between 1 and 100\n",
        "feature2 = np.random.uniform(1, 50, num_samples)   # Random values between 1 and 50\n",
        "feature3 = np.random.uniform(10, 200, num_samples) # Random values between 10 and 200\n",
        "feature4 = np.random.uniform(5, 300, num_samples)  # Random values between 5 and 300\n",
        "feature5 = np.random.uniform(20, 400, num_samples) # Random values between 20 and 400\n",
        "\n",
        "# Target variable with some correlation to features\n",
        "target = (\n",
        "    0.3 * feature1 +\n",
        "    0.5 * feature2 +\n",
        "    0.2 * feature3 +\n",
        "    np.random.normal(0, 10, num_samples)  # Adding noise\n",
        ")\n",
        "\n",
        "# Create a DataFrame\n",
        "data = {\n",
        "    \"Feature1\": feature1,\n",
        "    \"Feature2\": feature2,\n",
        "    \"Feature3\": feature3,\n",
        "    \"Feature4\": feature4,\n",
        "    \"Feature5\": feature5,\n",
        "    \"Target\": target,\n",
        "}\n",
        "df = pd.DataFrame(data)\n",
        "\n",
        "# Save to CSV\n",
        "csv_filename = \"qundle_dataset.csv\"\n",
        "df.to_csv(csv_filename, index=False)\n",
        "print(f\"CSV file '{csv_filename}' created with synthetic data.\")"
      ],
      "metadata": {
        "colab": {
          "base_uri": "https://localhost:8080/"
        },
        "id": "cPQ9t30WdxGq",
        "outputId": "3afecbc8-8724-403f-9fa4-2625433cbf56"
      },
      "execution_count": 3,
      "outputs": [
        {
          "output_type": "stream",
          "name": "stdout",
          "text": [
            "CSV file 'qundle_dataset.csv' created with synthetic data.\n"
          ]
        }
      ]
    },
    {
      "cell_type": "code",
      "source": [
        "#  Calculate the correlation matrix\n",
        "correlation_matrix = df.corr()\n",
        "print(\"Correlation Coefficient Matrix:\\n\", correlation_matrix)"
      ],
      "metadata": {
        "colab": {
          "base_uri": "https://localhost:8080/"
        },
        "id": "79v8lsf5d3Ko",
        "outputId": "ec557222-4fde-4997-a5c8-f1d9307750f7"
      },
      "execution_count": 4,
      "outputs": [
        {
          "output_type": "stream",
          "name": "stdout",
          "text": [
            "Correlation Coefficient Matrix:\n",
            "           Feature1  Feature2  Feature3  Feature4  Feature5    Target\n",
            "Feature1  1.000000 -0.034033 -0.037654 -0.211882  0.120075  0.586654\n",
            "Feature2 -0.034033  1.000000 -0.146354 -0.011783 -0.082393  0.300831\n",
            "Feature3 -0.037654 -0.146354  1.000000 -0.214816 -0.034695  0.445490\n",
            "Feature4 -0.211882 -0.011783 -0.214816  1.000000  0.187530 -0.361422\n",
            "Feature5  0.120075 -0.082393 -0.034695  0.187530  1.000000 -0.011003\n",
            "Target    0.586654  0.300831  0.445490 -0.361422 -0.011003  1.000000\n"
          ]
        }
      ]
    },
    {
      "cell_type": "code",
      "source": [
        "\n",
        "#  Select the top 3 features with the highest correlation to the target variable\n",
        "correlation_target = correlation_matrix['Target'].abs()\n",
        "top_3_features = correlation_target.sort_values(ascending=False).index[1:4]\n",
        "print(f\"Top 3 features: {top_3_features}\")"
      ],
      "metadata": {
        "colab": {
          "base_uri": "https://localhost:8080/"
        },
        "id": "1jXwhi-td3Nc",
        "outputId": "a09ea157-d61f-4d2a-f7e1-a227d6f31af9"
      },
      "execution_count": 6,
      "outputs": [
        {
          "output_type": "stream",
          "name": "stdout",
          "text": [
            "Top 3 features: Index(['Feature1', 'Feature3', 'Feature4'], dtype='object')\n"
          ]
        }
      ]
    },
    {
      "cell_type": "code",
      "source": [
        "# Prepare the data for model training using the top 3 features\n",
        "X = df[top_3_features]\n",
        "y = df['Target']\n",
        "\n",
        "# Split the data into training and testing sets\n",
        "X_train, X_test, y_train, y_test = train_test_split(X, y, test_size=0.2, random_state=42)\n",
        "\n",
        "# Train a Linear Regression model\n",
        "model = LinearRegression()\n",
        "model.fit(X_train, y_train)\n",
        "\n",
        "# Forecasting: Predict on the test set\n",
        "y_pred = model.predict(X_test)\n",
        "\n",
        "# Evaluate the model's performance\n",
        "mse = mean_squared_error(y_test, y_pred)\n",
        "print(f\"Mean Squared Error: {mse}\")\n"
      ],
      "metadata": {
        "colab": {
          "base_uri": "https://localhost:8080/"
        },
        "id": "K1WWEW8qd3Qf",
        "outputId": "8afbedb3-02c5-4213-af71-d86ed372c8a0"
      },
      "execution_count": 8,
      "outputs": [
        {
          "output_type": "stream",
          "name": "stdout",
          "text": [
            "Mean Squared Error: 148.54482836532554\n"
          ]
        }
      ]
    },
    {
      "cell_type": "code",
      "source": [
        "# Plotting Dots in 2D space (Top 2 Features)\n",
        "plt.scatter(df[top_3_features[0]], df[top_3_features[1]], c='blue', label=\"Data Points\")\n",
        "plt.xlabel(top_3_features[0])\n",
        "plt.ylabel(top_3_features[1])\n",
        "plt.title(\"Scatter Plot of Top 2 Features\")\n",
        "plt.legend()\n",
        "plt.show()\n"
      ],
      "metadata": {
        "colab": {
          "base_uri": "https://localhost:8080/",
          "height": 472
        },
        "id": "ZmzoTF1wd3TI",
        "outputId": "5e529d3f-eeec-41c2-85df-c8b32bd85955"
      },
      "execution_count": 9,
      "outputs": [
        {
          "output_type": "display_data",
          "data": {
            "text/plain": [
              "<Figure size 640x480 with 1 Axes>"
            ],
            "image/png": "[encoded data removed]"
          },
          "metadata": {}
        }
      ]
    },
    {
      "cell_type": "code",
      "source": [
        "#  N-Dimensional Distance Calculation: Euclidean Distance for two points (Example)\n",
        "def euclidean_distance(point1, point2):\n",
        "    return np.sqrt(np.sum((np.array(point1) - np.array(point2)) ** 2))\n",
        "\n",
        "# Example points (take two rows from the dataset or provide your own points)\n",
        "point1 = df[top_3_features].iloc[0].values\n",
        "point2 = df[top_3_features].iloc[1].values\n",
        "\n",
        "distance = euclidean_distance(point1, point2)\n",
        "print(f\"Euclidean Distance between the two points: {distance}\")"
      ],
      "metadata": {
        "colab": {
          "base_uri": "https://localhost:8080/"
        },
        "id": "Wgz9UlOaeAe6",
        "outputId": "6db9056d-bc6c-4b5f-b721-b60e0bdaf5a2"
      },
      "execution_count": 11,
      "outputs": [
        {
          "output_type": "stream",
          "name": "stdout",
          "text": [
            "Euclidean Distance between the two points: 185.77627253336823\n"
          ]
        }
      ]
    }
  ]
}